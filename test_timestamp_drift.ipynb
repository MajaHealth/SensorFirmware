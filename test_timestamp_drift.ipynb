{
 "cells": [
  {
   "cell_type": "code",
   "execution_count": 2,
   "id": "6f207b46",
   "metadata": {},
   "outputs": [
    {
     "name": "stdout",
     "output_type": "stream",
     "text": [
      "Total rows after filtering: 1273\n",
      "Sync_num range: 91 to 1364\n",
      "\n",
      "Number of time differences calculated: 1272\n",
      "Min time difference: 0.975000 seconds\n",
      "Max time difference: 1.992000 seconds\n",
      "Mean time difference: 1.001178 seconds\n",
      "\n",
      "Sum of successive time differences: 1273.498000 seconds\n",
      "Sum in minutes: 21.22 minutes\n",
      "Sum in hours: 0.3537 hours\n",
      "\n",
      "First ICG timestamp: 1761738193.585500\n",
      "Last ICG timestamp: 1761739467.083500\n",
      "Direct difference (last - first): 1273.498000 seconds\n"
     ]
    }
   ],
   "source": [
    "import pandas as pd\n",
    "import numpy as np\n",
    "\n",
    "# Read the CSV file\n",
    "df = pd.read_csv('icg_ecg_drift_1hour_20251029_224211.csv')\n",
    "\n",
    "# Filter data where sync_num is between 91 and 1347\n",
    "filtered_df = df[(df['sync_num'] >= 91) & (df['sync_num'] <= 1364)].copy()\n",
    "\n",
    "print(f\"Total rows after filtering: {len(filtered_df)}\")\n",
    "print(f\"Sync_num range: {filtered_df['sync_num'].min()} to {filtered_df['sync_num'].max()}\")\n",
    "\n",
    "# Extract ICG timestamps\n",
    "icg_timestamps = filtered_df['icg_timestamp'].values\n",
    "\n",
    "# Calculate successive time differences\n",
    "time_diffs = np.diff(icg_timestamps)\n",
    "\n",
    "print(f\"\\nNumber of time differences calculated: {len(time_diffs)}\")\n",
    "print(f\"Min time difference: {time_diffs.min():.6f} seconds\")\n",
    "print(f\"Max time difference: {time_diffs.max():.6f} seconds\")\n",
    "print(f\"Mean time difference: {time_diffs.mean():.6f} seconds\")\n",
    "\n",
    "# Sum of all successive time differences\n",
    "total_time_diff = np.sum(time_diffs)\n",
    "\n",
    "print(f\"\\nSum of successive time differences: {total_time_diff:.6f} seconds\")\n",
    "print(f\"Sum in minutes: {total_time_diff / 60:.2f} minutes\")\n",
    "print(f\"Sum in hours: {total_time_diff / 3600:.4f} hours\")\n",
    "\n",
    "# Also show first and last timestamps\n",
    "print(f\"\\nFirst ICG timestamp: {icg_timestamps[0]:.6f}\")\n",
    "print(f\"Last ICG timestamp: {icg_timestamps[-1]:.6f}\")\n",
    "print(f\"Direct difference (last - first): {icg_timestamps[-1] - icg_timestamps[0]:.6f} seconds\")"
   ]
  }
 ],
 "metadata": {
  "kernelspec": {
   "display_name": "base",
   "language": "python",
   "name": "python3"
  },
  "language_info": {
   "codemirror_mode": {
    "name": "ipython",
    "version": 3
   },
   "file_extension": ".py",
   "mimetype": "text/x-python",
   "name": "python",
   "nbconvert_exporter": "python",
   "pygments_lexer": "ipython3",
   "version": "3.12.4"
  }
 },
 "nbformat": 4,
 "nbformat_minor": 5
}
